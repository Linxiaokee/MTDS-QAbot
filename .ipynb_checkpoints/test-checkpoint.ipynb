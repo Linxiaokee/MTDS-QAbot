{
 "cells": [
  {
   "cell_type": "code",
   "execution_count": null,
   "id": "7ad1e86a",
   "metadata": {},
   "outputs": [],
   "source": [
    "import os\n",
    "from getFrom.getContentsFrom import getContentsFrom\n",
    "\n",
    "def getDatasFrom(root_dir_path):\n",
    "    datas = []\n",
    "    substr_to_remove = [\".md\", \"Chapter\"]\n",
    "    for root, dirnames, filenames in os.walk(root_dir_path):\n",
    "        # filter the directory names\n",
    "        dirnames[:] = [d for d in dirnames if (\"Chapter\" in d)]\n",
    "        for filename in filenames:\n",
    "            # for each .md file\n",
    "            if (\".md\" in filename):\n",
    "                # get data\n",
    "                with open(root+'\\\\'+filename, 'r', encoding='utf-8') as file:\n",
    "                    data = file.read()\n",
    "                    datas.append(data)\n",
    "    # get question and metadatas\n",
    "    contents = getContentsFrom(root_dir_path)\n",
    "    for i, data in enumerate(datas):\n",
    "        contents[i].update({'data':data})\n",
    "    return contents"
   ]
  }
 ],
 "metadata": {
  "kernelspec": {
   "display_name": "Python 3 (ipykernel)",
   "language": "python",
   "name": "python3"
  },
  "language_info": {
   "codemirror_mode": {
    "name": "ipython",
    "version": 3
   },
   "file_extension": ".py",
   "mimetype": "text/x-python",
   "name": "python",
   "nbconvert_exporter": "python",
   "pygments_lexer": "ipython3",
   "version": "3.10.11"
  }
 },
 "nbformat": 4,
 "nbformat_minor": 5
}
